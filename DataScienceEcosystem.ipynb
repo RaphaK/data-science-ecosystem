{
 "cells": [
  {
   "cell_type": "markdown",
   "metadata": {},
   "source": [
    "# Data Science Tools and Ecosystem"
   ]
  },
  {
   "cell_type": "markdown",
   "metadata": {},
   "source": [
    "In this notebook, Data Science Tools and Ecosystem are summarized."
   ]
  },
  {
   "cell_type": "markdown",
   "metadata": {},
   "source": [
    "**Objectives:**\n",
    "- List popular languages for Data Science\n",
    "- List commonly libraries for Data Science\n",
    "- List Data Science Tools"
   ]
  },
  {
   "cell_type": "markdown",
   "metadata": {},
   "source": [
    "## Author: \n",
    "Raphael Vicente dos Santos de Paula"
   ]
  },
  {
   "cell_type": "markdown",
   "metadata": {},
   "source": [
    "Some of the popular languages that Data Scientists use are:\n",
    "1. R\n",
    "2. Python\n",
    "3. Julia\n",
    "4. SAS"
   ]
  },
  {
   "cell_type": "markdown",
   "metadata": {},
   "source": [
    "Some of the commonly used libraries used by Data Scientists include:\n",
    "1. GGplot\n",
    "2. Matplotlib\n",
    "3. Numpy\n",
    "4. Caret\n",
    "5. Dplyr"
   ]
  },
  {
   "cell_type": "markdown",
   "metadata": {},
   "source": [
    "|Data Science Tools|\n",
    "|---|\n",
    "|R Studio|\n",
    "|Jupyter Notebook|\n",
    "|Spyder|"
   ]
  },
  {
   "cell_type": "markdown",
   "metadata": {},
   "source": [
    "Below are a few examples of evaluating arithmetic expressions in Python\n",
    "- 3 + 5\n",
    "- 10 - 4\n",
    "- 6 * 2\n",
    "- 20 / 4 "
   ]
  },
  {
   "cell_type": "code",
   "execution_count": 7,
   "metadata": {},
   "outputs": [
    {
     "data": {
      "text/plain": [
       "17"
      ]
     },
     "execution_count": 7,
     "metadata": {},
     "output_type": "execute_result"
    }
   ],
   "source": [
    "#  This a simple arithmetic expression to mutiply then add integers\n",
    "(3*4)+5"
   ]
  },
  {
   "cell_type": "code",
   "execution_count": 8,
   "metadata": {},
   "outputs": [
    {
     "data": {
      "text/plain": [
       "3.3333333333333335"
      ]
     },
     "execution_count": 8,
     "metadata": {},
     "output_type": "execute_result"
    }
   ],
   "source": [
    "# This will convert 200 minutes to hours by diving by 60\n",
    "\n",
    "minutes = 200\n",
    "hours = 60\n",
    "minutes / hours"
   ]
  },
  {
   "cell_type": "code",
   "execution_count": null,
   "metadata": {},
   "outputs": [],
   "source": [
    "import matplotlib.pyplot as plt\n",
    "from matplotlib.patches import Circle, ConnectionPatch\n",
    "import numpy as np\n",
    "\n",
    "# Key points to include in the graphic\n",
    "key_points = [\"Ecological Sustainability\", \"Social Justice\", \"Economic Empowerment\", \"Age Inclusivity\", \"Accessibility\"]\n",
    "\n",
    "# Define coordinates for the circles\n",
    "theta = np.linspace(0, 2 * np.pi, len(key_points), endpoint=False)\n",
    "x = np.cos(theta)\n",
    "y = np.sin(theta)\n",
    "\n",
    "# Create the plot\n",
    "fig, ax = plt.subplots(figsize=(10, 10))\n",
    "ax.set_xlim(-1.5, 1.5)\n",
    "ax.set_ylim(-1.5, 1.5)\n",
    "\n",
    "# Draw circles for each key point\n",
    "circles = [Circle((x[i], y[i]), 0.3) for i in range(len(key_points))]\n",
    "for i, circle in enumerate(circles):\n",
    "    ax.add_patch(circle)\n",
    "    plt.text(x[i], y[i], key_points[i], ha='center', va='center', fontweight='bold')\n",
    "\n",
    "# Draw connections between circles\n",
    "for i in range(len(circles)):\n",
    "    for j in range(i + 1, len(circles)):\n",
    "        conn = ConnectionPatch(xyA=(x[i], y[i]), xyB=(x[j], y[j]), coordsA=\"data\", coordsB=\"data\", arrowstyle=\"-\", color=\"gray\")\n",
    "        ax.add_patch(conn)\n",
    "\n",
    "# Add a central circle for the holistic approach\n",
    "central_circle = Circle((0, 0), 0.5, color='skyblue', alpha=0.3)\n",
    "ax.add_patch(central_circle)\n",
    "plt.text(0, 0, \"Holistic Approach\", ha='center', va='center', fontweight='bold')\n",
    "\n",
    "# Remove axes\n",
    "ax.set_axis_off()\n",
    "\n",
    "# Title\n",
    "plt.title(\"Summary of Key Points: A Holistic Approach in Fashion\", fontsize=15)\n",
    "\n",
    "# Show the plot\n",
    "plt.show()\n"
   ]
  },
  {
   "cell_type": "code",
   "execution_count": null,
   "metadata": {},
   "outputs": [],
   "source": [
    "import matplotlib.pyplot as plt\n",
    "from matplotlib.patches import Circle, ConnectionPatch\n",
    "import numpy as np\n",
    "\n",
    "# Key points to include in the graphic\n",
    "key_points = [\"Ecological Sustainability\", \"Social Justice\", \"Economic Empowerment\", \"Age Inclusivity\", \"Accessibility\"]\n",
    "\n",
    "# Define coordinates for the circles\n",
    "theta = np.linspace(0, 2 * np.pi, len(key_points))\n",
    "x = np.cos(theta)\n",
    "y = np.sin(theta)\n",
    "\n",
    "# Create the plot\n",
    "fig, ax = plt.subplots(figsize=(10, 10))\n",
    "ax.set_xlim(-1.5, 1.5)\n",
    "ax.set_ylim(-1.5, 1.5)\n",
    "\n",
    "# Draw circles for each key point\n",
    "circles = [Circle((x[i], y[i]), 0.3) for i in range(len(key_points))]\n",
    "for i, circle in enumerate(circles):\n",
    "    ax.add_patch(circle)\n",
    "    # Adjusting text alignment for better readability\n",
    "    if key_points[i] == \"Ecological Sustainability\":\n",
    "        plt.text(x[i], y[i], key_points[i], ha='right', va='center', fontweight='bold')\n",
    "    elif key_points[i] == \"Holistic Approach\":\n",
    "        plt.text(x[i], y[i], key_points[i], ha='left', va='center', fontweight='bold')\n",
    "    else:\n",
    "        plt.text(x[i], y[i], key_points[i], ha='center', va='center', fontweight='bold')\n",
    "\n",
    "# Draw connections between circles\n",
    "for i in range(len(circles)):\n",
    "    for j in range(i + 1, len(circles)):\n",
    "        conn = ConnectionPatch(xyA=(x[i], y[i]), xyB=(x[j], y[j]), coordsA=\"data\", coordsB=\"data\", arrowstyle=\"-\", color=\"gray\")\n",
    "        ax.add_patch(conn)\n",
    "\n",
    "# Add a central circle for the holistic approach\n",
    "central_circle = Circle((0, 0), 0.5, color='skyblue', alpha=0.3)\n",
    "ax.add_patch(central_circle)\n",
    "plt.text(0, 0, \"Holistic Approach\", ha='center', va='center', fontweight='bold')\n",
    "\n",
    "# Remove axes\n",
    "ax.set_axis_off()\n",
    "\n",
    "# Title\n",
    "plt.title(\"Summary of Key Points: A Holistic Approach in Fashion\", fontsize=15)\n",
    "\n",
    "# Show the plot\n",
    "plt.show()\n"
   ]
  },
  {
   "cell_type": "code",
   "execution_count": null,
   "metadata": {},
   "outputs": [],
   "source": [
    "import matplotlib.dates as mdates\n",
    "from datetime import datetime\n",
    "\n",
    "# Define the timeline data\n",
    "events = [\n",
    "    {\"date\": \"2023-06\", \"event\": \"Industry-wide Assessments\"},\n",
    "    {\"date\": \"2023-09\", \"event\": \"Immediate Policy Changes\"},\n",
    "    {\"date\": \"2023-12\", \"event\": \"Launch Awareness Campaigns\"},\n",
    "    {\"date\": \"2024-03\", \"event\": \"Pilot Projects for Sustainability\"},\n",
    "    {\"date\": \"2024-06\", \"event\": \"Develop Industry Standards\"},\n",
    "    {\"date\": \"2025-01\", \"event\": \"Invest in Sustainable Technologies\"},\n",
    "    {\"date\": \"2025-06\", \"event\": \"Build Collaborative Networks\"},\n",
    "    {\"date\": \"2026-01\", \"event\": \"Consumer Behavior Shifts\"}\n",
    "]\n",
    "\n",
    "dates = [datetime.strptime(event[\"date\"], \"%Y-%m\") for event in events]\n",
    "labels = [event[\"event\"] for event in events]\n",
    "\n",
    "# Create the plot\n",
    "plt.figure(figsize=(10, 5))\n",
    "plt.title(\"Implementation Roadmap: Fashion Industry's Transformation\")\n",
    "plt.plot(dates, labels, '-o')\n",
    "\n",
    "# Format the dates on the x-axis\n",
    "plt.gca().xaxis.set_major_formatter(mdates.DateFormatter(\"%Y-%m\"))\n",
    "plt.gca().xaxis.set_major_locator(mdates.MonthLocator(interval=6))\n",
    "plt.gcf().autofmt_xdate()  # Beautify the x-labels\n",
    "plt.grid(True)\n",
    "\n",
    "# Add descriptions\n",
    "for i, event in enumerate(events):\n",
    "    plt.text(dates[i], labels[i], f\"{labels[i]} \\n{event['date']}\")\n",
    "\n",
    "# Show the plot\n",
    "plt.tight_layout()\n",
    "plt.show()\n"
   ]
  },
  {
   "cell_type": "code",
   "execution_count": null,
   "metadata": {},
   "outputs": [],
   "source": [
    "import matplotlib.pyplot as plt\n",
    "import numpy as np\n",
    "\n",
    "# Data for the graph\n",
    "years = ['2000', '2014']\n",
    "clothing_production = [1, 2]  # Normalized: 2000 is 1, 2014 is 2 (doubled)\n",
    "clothing_consumption = [1, 1.6]  # Normalized: Increase by 60%\n",
    "average_time_kept = [1, 0.5]  # Normalized: Decrease to half the time\n",
    "\n",
    "# Create the figure and axis\n",
    "fig, ax = plt.subplots()\n",
    "\n",
    "# X-axis positions for the bars\n",
    "x = np.arange(len(years))\n",
    "\n",
    "# Bar width\n",
    "bar_width = 0.25\n",
    "\n",
    "# Plotting the bars\n",
    "ax.bar(x - bar_width, clothing_production, bar_width, label='Clothing Production', color='green')\n",
    "ax.bar(x, clothing_consumption, bar_width, label='Increase in Consumption (60%)', color='blue')\n",
    "ax.bar(x + bar_width, average_time_kept, bar_width, label='Decrease in Time Kept', color='red')\n",
    "\n",
    "# Setting the x-axis labels and title\n",
    "ax.set_xlabel('Year')\n",
    "ax.set_ylabel('Relative Scale')\n",
    "ax.set_title('Clothing Production, Consumption, and Time Kept (2000 vs 2014)')\n",
    "ax.set_xticks(x)\n",
    "ax.set_xticklabels(years)\n",
    "\n",
    "# Adding the legend\n",
    "ax.legend()\n",
    "\n",
    "# Show the plot\n",
    "plt.show()\n"
   ]
  },
  {
   "cell_type": "code",
   "execution_count": null,
   "metadata": {},
   "outputs": [],
   "source": [
    "import matplotlib.pyplot as plt\n",
    "\n",
    "# Data\n",
    "years = ['2000', '2014']\n",
    "clothing_production = [1, 2]  # Assuming a normalized scale where 2000 is 1 and 2014 is 2\n",
    "average_time_kept = [2, 1]  # Assuming a normalized scale where the time garments are kept halves\n",
    "\n",
    "# Creating bar graph\n",
    "fig, ax1 = plt.subplots()\n",
    "\n",
    "# First bar graph for clothing production\n",
    "ax1.bar(years, clothing_production, color='b', alpha=0.6, label='Clothing Production Increase')\n",
    "\n",
    "# Second bar graph for average time garments are kept\n",
    "ax2 = ax1.twinx()\n",
    "ax2.bar(years, average_time_kept, color='r', alpha=0.6, label='Decrease in Time Garments Kept')\n",
    "\n",
    "# Titles and labels\n",
    "ax1.set_title('Clothing Production vs Average Time Garments Are Kept (2000 vs 2014)')\n",
    "ax1.set_xlabel('Year')\n",
    "ax1.set_ylabel('Clothing Production (Relative Scale)', color='b')\n",
    "ax2.set_ylabel('Average Time Kept (Relative Scale)', color='r')\n",
    "\n",
    "# Legends\n",
    "ax1.legend(loc='upper left')\n",
    "ax2.legend(loc='upper right')\n",
    "\n",
    "# Show plot\n",
    "plt.show()\n"
   ]
  }
 ],
 "metadata": {
  "kernelspec": {
   "display_name": "Python 3",
   "language": "python",
   "name": "python3"
  },
  "language_info": {
   "codemirror_mode": {
    "name": "ipython",
    "version": 3
   },
   "file_extension": ".py",
   "mimetype": "text/x-python",
   "name": "python",
   "nbconvert_exporter": "python",
   "pygments_lexer": "ipython3",
   "version": "3.11.4"
  }
 },
 "nbformat": 4,
 "nbformat_minor": 2
}
